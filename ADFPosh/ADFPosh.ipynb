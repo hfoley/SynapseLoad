{
    "metadata": {
        "kernelspec": {
            "name": "powershell",
            "display_name": "PowerShell"
        },
        "language_info": {
            "name": "powershell",
            "codemirror_mode": "shell",
            "mimetype": "text/x-sh",
            "file_extension": ".ps1"
        }
    },
    "nbformat_minor": 2,
    "nbformat": 4,
    "cells": [
        {"cell_type":"markdown","metadata":{},"source":["<# Update the variables section appropriately for your environment.  \r   \n  Update any reference to ***Change This*** in the variables #>"]},{
  "cell_type": "code",
  "source": [
    "$SubscriptionName = \"***Change This***\" \r\n$ResourceGroupName = \"***Change This***\" \r\n$DataFactoryLocation = \"***Change This***\" \r\n$DataFactoryName = \"***Change This***\" \r\n$SharedIntegrationRuntimeName = \"***Change This***\" \r\n$SharedIntegrationRuntimeDescription = \"Self Hosted IR to ***Change This***\"\r\n\r\n\r\nConnect-AzAccount\r\nSelect-AzSubscription -SubscriptionName $SubscriptionName\r\n\r\n$SharedIR = Set-AzDataFactoryV2IntegrationRuntime `\r\n    -ResourceGroupName $ResourceGroupName `\r\n    -DataFactoryName $DataFactoryName `\r\n    -Name $SharedIntegrationRuntimeName `\r\n    -Type SelfHosted `\r\n    -Description $SharedIntegrationRuntimeDescription"
  ],
  "metadata": {
    "azdata_cell_guid": "f35af370-c9d1-4768-87f0-de20738373ad"
  },
  "outputs": [
    {
      "name": "stdout",
      "output_type": "stream",
      "text": ""
    }
  ]
},{"cell_type":"markdown","metadata":{},"source":["<# Update the variables section appropriately for your environment.  \r   \n  Update any reference to ***Change This*** in the variables #>"]},{
  "cell_type": "code",
  "source": [
    "$SubscriptionName = \"***Change This***\" \r\n$ResourceGroupName = \"***Change This***\" \r\n$DataFactoryLocation = \"***Change This***\" \r\n$DataFactoryName = \"***Change This***\" \r\n$SharedIntegrationRuntimeName = \"***Change This***\" \r\n$SharedIntegrationRuntimeDescription = \"Self Hosted IR to ***Change This***\"\r\n\r\nConnect-AzAccount\r\nSelect-AzSubscription -SubscriptionName $SubscriptionName\r\n\r\nGet-AzDataFactoryV2IntegrationRuntimeKey `\r\n    -ResourceGroupName $ResourceGroupName `\r\n    -DataFactoryName $DataFactoryName `\r\n    -Name $SharedIntegrationRuntimeName"
  ],
  "metadata": {
    "azdata_cell_guid": "a79eda80-a7cd-4d4d-bdab-e06096f322d2"
  },
  "outputs": [
    {
      "name": "stdout",
      "output_type": "stream",
      "text": ""
    }
  ]
},{"cell_type":"markdown","metadata":{},"source":["<# Update the variables section appropriately for your environment.  \r   \n  Update any reference to ***Change This*** in the variables #>"]},{
  "cell_type": "code",
  "source": [
    "$SubscriptionName = \"***Change This***\" \r\n$ResourceGroupName = \"***Change This***\" \r\n$DataFactoryLocation = \"***Change This***\" \r\n$ScriptLoc = '***Change This***'\r\n$DataFactoryName = \"***Change This***\" \r\n$LinkedServiceName1 = \"AzureSQLDBLnkSvr\"\r\n$LinkedServiceFile1 = \".\\AzureSQLDBLinkedService.json\"\r\n$LinkedServiceName2 = \"ADLSGen2LnkSvr\"\r\n$LinkedServiceFile2 = \".\\ADLSGen2LinkedService.json\"\r\n$LinkedServiceName3 = \"SynapseLnkSvr\"\r\n$LinkedServiceFile3 = \".\\SynapseLinkedService.json\"\r\n\r\nSet-Location $ScriptLoc\r\n\r\nConnect-AzAccount\r\nSelect-AzSubscription -SubscriptionName $SubscriptionName\r\n\r\nSet-AzDataFactoryV2LinkedService -DataFactoryName $DataFactoryName `\r\n    -ResourceGroupName $ResourceGroupName -Name $LinkedServiceName1 `\r\n    -DefinitionFile $LinkedServiceFile1\r\n\r\nSet-AzDataFactoryV2LinkedService -DataFactoryName $DataFactoryName `\r\n    -ResourceGroupName $ResourceGroupName -Name $LinkedServiceName2 `\r\n    -DefinitionFile $LinkedServiceFile2\r\n\r\nSet-AzDataFactoryV2LinkedService -DataFactoryName $DataFactoryName `\r\n    -ResourceGroupName $ResourceGroupName -Name $LinkedServiceName3 `\r\n    -DefinitionFile $LinkedServiceFile3"
  ],
  "metadata": {
    "azdata_cell_guid": "b92e33e8-0e99-4960-82f7-99edca20ce06"
  },
  "outputs": [
    {
      "name": "stdout",
      "output_type": "stream",
      "text": ""
    }
  ]
},{"cell_type":"markdown","metadata":{},"source":["<# Update the variables section appropriately for your environment.  \r   \n  Update any reference to ***Change This*** in the variables #>"]},{
  "cell_type": "code",
  "source": [
    "$SubscriptionName = \"***Change This***\" \r\n$ResourceGroupName = \"***Change This***\" \r\n$DataFactoryLocation = \"***Change This***\" \r\n$ScriptLoc = \"***Change This***\"\r\n$DataFactoryName = \"***Change This***\" \r\n$DatasetName1 = \"LookupMetadataLoad\"\r\n$DatasetFile1 = \".\\DatasetSQLMetadataLoad.json\"\r\n$DatasetName2 = \"SrcADLSFileLoad\"\r\n$DatasetFile2 = \".\\DatasetSrcADLSFileLoad.json\"\r\n$DatasetName3 = \"SinkSynapseTable\"\r\n$DatasetFile3 = \".\\DatasetSinkSynapse.json\"\r\n\r\nSet-Location $ScriptLoc\r\n\r\nConnect-AzAccount\r\n\r\nSelect-AzSubscription -SubscriptionName $SubscriptionName\r\nSet-AzDataFactoryV2Dataset -DataFactoryName $DataFactoryName `\r\n    -ResourceGroupName $ResourceGroupName -Name $DatasetName1 `\r\n    -DefinitionFile $DatasetFile1\r\n\r\nSelect-AzSubscription -SubscriptionName $SubscriptionName\r\nSet-AzDataFactoryV2Dataset -DataFactoryName $DataFactoryName `\r\n    -ResourceGroupName $ResourceGroupName -Name $DatasetName2 `\r\n    -DefinitionFile $DatasetFile2\r\n\r\nSelect-AzSubscription -SubscriptionName $SubscriptionName\r\nSet-AzDataFactoryV2Dataset -DataFactoryName $DataFactoryName `\r\n    -ResourceGroupName $ResourceGroupName -Name $DatasetName3 `\r\n    -DefinitionFile $DatasetFile3"
  ],
  "metadata": {
    "azdata_cell_guid": "4c292db4-8282-4621-8c8f-b7b80363ba9c"
  },
  "outputs": [
    {
      "name": "stdout",
      "output_type": "stream",
      "text": ""
    }
  ]
},{"cell_type":"markdown","metadata":{},"source":["<# Update the variables section appropriately for your environment.  \r   \n  Update any reference to ***Change This*** in the variables #>"]},{
  "cell_type": "code",
  "source": [
    "$SubscriptionName = \"***Change This***\" \r\n$ResourceGroupName = \"***Change This***\" \r\n$DataFactoryLocation = \"***Change This***\" \r\n$ScriptLoc = \"***Change This***\"\r\n$DataFactoryName = \"***Change This***\" \r\n$PipelineName1 = \"Synapse Incremental Load\"\r\n$PipelineFile1 = \".\\IncrementalPipelineCreate.json\"\r\n$PipelineName2 = \"Synapse Truncate Load\"\r\n$PipelineFile2 = \".\\Truncate Load Synapse.json\"\r\n\r\n\r\nSet-Location $ScriptLoc\r\n\r\nConnect-AzAccount\r\nSelect-AzSubscription -SubscriptionName $SubscriptionName\r\n\r\n$Pipeline1 = Set-AzDataFactoryV2Pipeline `\r\n    -DataFactoryName $DataFactoryName `\r\n    -ResourceGroupName $ResourceGroupName `\r\n    -Name $PipelineName1 `\r\n    -DefinitionFile $PipelineFile1\r\n\r\n$Pipeline2 = Set-AzDataFactoryV2Pipeline `\r\n    -DataFactoryName $DataFactoryName `\r\n    -ResourceGroupName $ResourceGroupName `\r\n    -Name $PipelineName2 `\r\n    -DefinitionFile $PipelineFile2"
  ],
  "metadata": {
    "azdata_cell_guid": "c8a847ec-91d7-4f40-a412-11096b80e7f1"
  },
  "outputs": [
    {
      "name": "stdout",
      "output_type": "stream",
      "text": ""
    }
  ]
}
    ]
}
