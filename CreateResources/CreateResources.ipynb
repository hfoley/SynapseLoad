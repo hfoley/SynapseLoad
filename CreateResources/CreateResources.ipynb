{
    "metadata": {
        "kernelspec": {
            "name": "powershell",
            "display_name": "PowerShell"
        },
        "language_info": {
            "name": "powershell",
            "codemirror_mode": "shell",
            "mimetype": "text/x-sh",
            "file_extension": ".ps1"
        }
    },
    "nbformat_minor": 2,
    "nbformat": 4,
    "cells": [
        {"cell_type":"markdown","metadata":{},"source":["<# Update the variables section appropriately for your environment.  \r   \n  Update any reference to ***Change This*** in the variables #>"]},{
  "cell_type": "code",
  "source": [
    "$startTime = Get-Date\r\n$SubscriptionName = \"***Change This***\" \r\n$SubscriptionId = '***Change This***'\r\n$resourceGroupName = \"***Change This***\"\r\n$resourceGroupLocation = \"***Change This***\" \r\n\r\nConnect-AzAccount\r\nSelect-AzSubscription -SubscriptionName $SubscriptionName\r\n\r\nWrite-Host \"The resource group creation script was started \" $startTime\r\n\r\n$RGCheck = Get-AzResourceGroup -Name  $resourceGroupName -ErrorAction SilentlyContinue\r\nif(-not $RGCheck)\r\n    {\r\n    Write-Host \"Resource group '$resourceGroupName' doesn't exist and will be created\"\r\n    New-AzResourceGroup -Name $resourceGroupName -Location $resourceGroupLocation\r\n    }\r\nelse \r\n    {Write-Host \"Resource group '$resourceGroupName' already created\"}\r\n\r\n$endTime = Get-Date\r\nwrite-host \"Ended resource group creation at \" $endTime"
  ],
  "metadata": {
    "azdata_cell_guid": "d96b6b6c-8673-4a30-a603-82c4e5323347"
  },
  "outputs": [
    {
      "name": "stdout",
      "output_type": "stream",
      "text": ""
    }
  ]
},{"cell_type":"markdown","metadata":{},"source":["<# Update the variables section appropriately for your environment.  \r   \n  Update any reference to ***Change This*** in the variables\r   \n  You will get prompted at first to login with your account to Azure.  \r   \n  You will get a second prompt that will create your SQL Admin account/password. \r   \n  IMPORTANT - use all lowercase on $azsqlserver logical server name due to potential bug (4/7/20) #>"]},{
  "cell_type": "code",
  "source": [
    "$startTime = Get-Date\r\n$SubscriptionName = \"***Change This***\" \r\n$SubscriptionId = '***Change This***'\r\n$resourceGroupName = \"***Change This***\"\r\n$resourceGroupLocation = \"***Change This***\" \r\n$azsqlserver = \"***Change This***\"\r\n$azsqlDB = \"***Change This***\"\r\n$edition = \"***Change This***\"\r\n$ComputeModel = \"***Change This***\" \r\n$ComputeGen = \"***Change This***\"\r\n$mincore = \"***Change This***\"\r\n$maxcore = \"***Change This***\"\r\n$pausemin = \"***Change This***\"\r\n\r\nConnect-AzAccount\r\nSelect-AzSubscription -SubscriptionName $SubscriptionName\r\n\r\nWrite-Host \"The Azure SQL Server and DB creation script was started \" $startTime\r\n\r\n$SQLServerCheck = Get-AzSqlServer -ResourceGroupName $resourceGroupName -ServerName $azsqlserver -ErrorAction SilentlyContinue\r\nif(-not $SQLServerCheck)\r\n    {\r\n    Write-Host \"SQL Server '$azsqlserver' doesn't exist and will be created\"\r\n    New-AzSqlServer -ResourceGroupName $resourceGroupName -Location $resourceGroupLocation -ServerName $azsqlserver -ServerVersion \"12.0\" -SqlAdministratorCredentials (Get-Credential)\r\n    }\r\nelse \r\n    {Write-Host \"SQL Server '$azsqlserver' already created\"}\r\n\r\n\r\n$SQLDBCheck = Get-AzSqlDatabase -ResourceGroupName $resourceGroupName -ServerName $azsqlserver -DatabaseName $azsqlDB -ErrorAction SilentlyContinue\r\nif(-not $SQLDBCheck)\r\n    {\r\n    Write-Host \"SQL DB '$azsqlDB' doesn't exist and will be created\"\r\n    New-AzSqlDatabase -ResourceGroupName $resourceGroupName  -ServerName $azsqlserver -DatabaseName $azsqlDB -ComputeModel $ComputeModel -Edition $edition -ComputeGeneration $ComputeGen `\r\n    -MinVcore $mincore -MaxVcore $maxcore -AutoPauseDelayInMinutes $pausemin\r\n\r\n    }\r\nelse \r\n    {Write-Host \"SQL DB '$azsqlDB' already created\"}\r\n\r\n$endTime = Get-Date\r\nwrite-host \"Ended SQL Server and DB creation at \" $endTime"
  ],
  "metadata": {
    "azdata_cell_guid": "531e6520-b4e1-4baf-b76f-7fc97a61132f"
  },
  "outputs": [
    {
      "name": "stdout",
      "output_type": "stream",
      "text": ""
    }
  ]
},{"cell_type":"markdown","metadata":{},"source":["<# Update the variables section appropriately for your environment.  \r   \n  Update any reference to ***Change This*** in the variables #>"]},{
  "cell_type": "code",
  "source": [
    "$startTime = Get-Date\r\n$SubscriptionName = \"***Change This***\" \r\n$SubscriptionId = '***Change This***'\r\n$resourceGroupName = \"***Change This***\"\r\n$resourceGroupLocation = \"***Change This***\" \r\n$azstoragename = \"***Change This***\"\r\n$containername = \"***Change This***\" \r\n$SKUName = \"Standard_GRS\"\r\n$storagekind = \"StorageV2\"\r\n\r\n\r\nConnect-AzAccount\r\nSelect-AzSubscription -SubscriptionName $SubscriptionName\r\n\r\nWrite-Host \"The Azure ADLS Gen 2 Storage creation script was started \" $startTime\r\n\r\n$ADLSCheck = Get-AzStorageAccount -ResourceGroupName $resourceGroupName -Name $azstoragename -ErrorAction SilentlyContinue\r\nif(-not $ADLSCheck)\r\n    {\r\n    Write-Host \"The ADLS storage '$azstoragename' doesn't exist and will be created\"\r\n    New-AzStorageAccount -ResourceGroupName $resourceGroupName -AccountName $azstoragename -Location $resourceGroupLocation -SkuName $SKUName -Kind $storagekind  -EnableHierarchicalNamespace $true\r\n     $ctx = New-AzStorageContext -StorageAccountName $azstoragename -UseConnectedAccount\r\n        $ContCheck = Get-AzStorageContainer -Name $containername -Context $ctx -ErrorAction SilentlyContinue\r\n        if(-not $ContCheck)\r\n            {\r\n            Write-Host \"The ADLS storage container '$containername' doesn't exist and will be created\"\r\n            New-AzStorageContainer -Name $containername -Context $ctx\r\n            }\r\n            else\r\n            {\r\n            Write-Host \"The ADLS storage container '$containername' already there\"\r\n            }\r\n    }\r\nelse \r\n    {\r\n    Write-Host \"The ADLS storage '$azstoragename' already created\"\r\n        $ctx = New-AzStorageContext -StorageAccountName $azstoragename -UseConnectedAccount\r\n        $ContCheck = Get-AzStorageContainer -Name $containername -Context $ctx -ErrorAction SilentlyContinue\r\n        if(-not $ContCheck)\r\n            {\r\n            Write-Host \"The ADLS storage container '$containername' doesn't exist and will be created\"\r\n            New-AzStorageContainer -Name $containername -Context $ctx\r\n            }\r\n            else\r\n            {\r\n            Write-Host \"The ADLS storage container '$containername' already there\"\r\n            }\r\n    }"
  ],
  "metadata": {
    "azdata_cell_guid": "e8a7ce44-1b84-4220-a65c-0bbd37ebe0e0"
  },
  "outputs": [
    {
      "name": "stdout",
      "output_type": "stream",
      "text": ""
    }
  ]
},{"cell_type":"markdown","metadata":{},"source":["<# Update the variables section appropriately for your environment.  \r   \n  Update any reference to ***Change This*** in the variables #>"]},{
  "cell_type": "code",
  "source": [
    "$startTime = Get-Date\r\n$SubscriptionName = \"***Change This***\" \r\n$SubscriptionId = '***Change This***'\r\n$resourceGroupName = \"***Change This***\"\r\n$resourceGroupLocation = \"***Change This***\" \r\n$azadfname = \"***Change This***\"\r\n$endTime = Get-Date\r\n\r\nConnect-AzAccount\r\nSelect-AzSubscription -SubscriptionName $SubscriptionName\r\n\r\nWrite-Host \"The Azure Data Factory creation script was started \" $startTime\r\n\r\n$ADFCheck = Get-AzDataFactoryV2 -ResourceGroupName $resourceGroupName -Name $azadfname -ErrorAction SilentlyContinue\r\nif(-not $ADFCheck)\r\n    {\r\n    Write-Host \"The Azure Data Factory '$azadfname' doesn't exist and will be created\"\r\n    New-AzDataFactoryV2 -ResourceGroupName $resourceGroupName -Name $azadfname –Location $resourceGroupLocation\r\n    }\r\nelse \r\n    {\r\n   Write-Host \"The Azure Data Factory '$azadfname' already there\"\r\n    }\r\n\r\nwrite-host \"Ended Azure Data Factory creation at \" $endTime"
  ],
  "metadata": {
    "azdata_cell_guid": "56e135be-78bd-40e1-be38-b8b4355df111"
  },
  "outputs": [
    {
      "name": "stdout",
      "output_type": "stream",
      "text": ""
    }
  ]
},{"cell_type":"markdown","metadata":{},"source":["<# Update the variables section appropriately for your environment.  \r   \n  Update any reference to ***Change This*** in the variables\r   \n  You will get prompted at first to login with your account to Azure.  \r   \n  You will get a second prompt that will create your SQL Admin account/password \r   \n  IMPORTANT - use all lowercase for now on SQL Server logical name 4/6/20 #>"]},{
  "cell_type": "code",
  "source": [
    "$startTime = Get-Date\r\n$SubscriptionName = \"***Change This***\" \r\n$SubscriptionId = '***Change This***'\r\n$resourceGroupName = \"***Change This***\"\r\n$resourceGroupLocation = \"***Change This***\" \r\n$azsqlserver = \"***Change This***\"\r\n$azsynapsename = \"***Change This***\"\r\n$edition = \"***Change This***\"\r\n$synapselvl = \"***Change This***\" \r\n\r\n\r\nConnect-AzAccount\r\nSelect-AzSubscription -SubscriptionName $SubscriptionName\r\n\r\nWrite-Host \"The Azure Synapse Server and DB creation script was started \" $startTime\r\n\r\n$SQLServerCheck = Get-AzSqlServer -ResourceGroupName $resourceGroupName -ServerName $azsqlserver -ErrorAction SilentlyContinue\r\nif(-not $SQLServerCheck)\r\n    {\r\n    Write-Host \"SQL Server '$azsqlserver' doesn't exist and will be created\"\r\n    New-AzSqlServer -ResourceGroupName $resourceGroupName -Location $resourceGroupLocation -ServerName $azsqlserver -ServerVersion \"12.0\" -SqlAdministratorCredentials (Get-Credential)\r\n    }\r\nelse \r\n    {Write-Host \"SQL Server '$azsqlserver' already created\"}\r\n\r\n\r\n$SQLSynapseCheck = Get-AzSqlDatabase -ResourceGroupName $resourceGroupName -ServerName $azsqlserver -DatabaseName $azsynapsename -ErrorAction SilentlyContinue\r\nif(-not $SQLSynapseCheck)\r\n    {\r\n    Write-Host \"Synapse DB '$azsynapsename' doesn't exist and will be created\"\r\n    New-AzSqlDatabase -ResourceGroupName $resourceGroupName  -ServerName $azsqlserver -DatabaseName $azsynapsename -Edition $edition -RequestedServiceObjectiveName $synapselvl  \r\n    }\r\nelse \r\n    {Write-Host \"Synapse DB '$azsynapsename' already created\"}\r\n\r\n$endTime = Get-Date\r\nwrite-host \"Ended Azure Synapse Server and DB creation script was started \" $endTime"
  ],
  "metadata": {
    "azdata_cell_guid": "e58d2a3a-3ea0-4d3e-9bc9-3c7ff53437ba"
  },
  "outputs": [
    {
      "name": "stdout",
      "output_type": "stream",
      "text": ""
    }
  ]
}
    ]
}
